{
 "cells": [
  {
   "cell_type": "code",
   "execution_count": null,
   "id": "40bcd908",
   "metadata": {},
   "outputs": [],
   "source": [
    "pip install bs4"
   ]
  },
  {
   "cell_type": "code",
   "execution_count": null,
   "id": "3fc42df1",
   "metadata": {},
   "outputs": [],
   "source": [
    "import requests\n",
    "from requests_oauthlib import OAuth1\n",
    "from bs4 import BeautifulSoup\n",
    "from lxml import etree\n",
    "import pandas as pd\n",
    "import json"
   ]
  },
  {
   "cell_type": "code",
   "execution_count": null,
   "id": "a29fd71d",
   "metadata": {},
   "outputs": [],
   "source": [
    "def get_data(cik):\n",
    "    URL = f\"https://www.edgarcompany.sec.gov/servlet/CompanyDBSearch?page=detailed&cik=000{cik}&main_back=2\"\n",
    "    page = requests.get(URL)\n",
    "\n",
    "    soup = BeautifulSoup(page.content, \"lxml\") \n",
    "\n",
    "    dom = etree.HTML(str(soup))\n",
    "\n",
    "    address = dom.xpath('/html/body/form/table/tr[3]/td/table/tr[2]/td/table/tr[8]/td[3]/text()')\n",
    "\n",
    "    return ', '.join(address)"
   ]
  },
  {
   "cell_type": "code",
   "execution_count": null,
   "id": "23f2ac44",
   "metadata": {},
   "outputs": [],
   "source": [
    "# get all sec registered public company tickers\n",
    "req_json_url = 'https://www.sec.gov/files/company_tickers.json'\n",
    "result = requests.get(req_json_url).json()"
   ]
  },
  {
   "cell_type": "code",
   "execution_count": null,
   "id": "867891e0",
   "metadata": {},
   "outputs": [],
   "source": [
    "result = requests.get(req_json_url).json()\n",
    "df_result = pd.DataFrame.from_dict(result.values())"
   ]
  },
  {
   "cell_type": "code",
   "execution_count": null,
   "id": "a773f661",
   "metadata": {},
   "outputs": [],
   "source": [
    "# query sec (EDGAR) site by CIK number \n",
    "address_list = []\n",
    "for k,v in result.items():\n",
    "    try:\n",
    "        r = get_data(v.get('cik_str',''))\n",
    "        address_list.append(r)\n",
    "    except (KeyError,IndexError) as e:\n",
    "        print(e)\n",
    "        print(v)\n"
   ]
  },
  {
   "cell_type": "code",
   "execution_count": null,
   "id": "9689f261",
   "metadata": {},
   "outputs": [],
   "source": [
    "#https://companiesmarketcap.com/real-estate/largest-real-estate-companies-by-market-cap/\n",
    "df = pd.read_csv('../files/real_estate_companies_by_marketcap.csv')\n",
    "df_merge = pd.merge(df_result,df,right_on='Symbol',left_on='ticker')\n",
    "df_final = pd.merge(df_merge,df_all[['title','address']],on='title')\n"
   ]
  },
  {
   "cell_type": "code",
   "execution_count": null,
   "id": "9c67b9e4",
   "metadata": {},
   "outputs": [],
   "source": [
    "def yahoo_finance_industry(ticker):\n",
    "    URL = f\"https://finance.yahoo.com/quote/{ticker}/profile?p={ticker}\"\n",
    "    page = requests.get(URL,headers = {'User-Agent': 'Mozilla/5.0'})\n",
    "\n",
    "    soup = BeautifulSoup(page.content, \"lxml\") \n",
    "\n",
    "    dom = etree.HTML(str(soup))\n",
    "    xpath = '/html/body/div[1]/div/div/div[1]/div/div[3]/div[1]/div/div[1]/div/div/section/div[1]/div/div/p[2]/span[4]/text()'\n",
    "\n",
    "    return dom.xpath(xpath)"
   ]
  },
  {
   "cell_type": "code",
   "execution_count": null,
   "id": "f3f4baa9",
   "metadata": {},
   "outputs": [],
   "source": [
    "from random import randint\n",
    "from time import sleep"
   ]
  },
  {
   "cell_type": "code",
   "execution_count": null,
   "id": "817cd882",
   "metadata": {},
   "outputs": [],
   "source": [
    "i = 0\n",
    "for t in df_result.ticker:\n",
    "#     sleep(randint(3,10))\n",
    "    if t not in res_dict:\n",
    "        industry = yahoo_finance(t)\n",
    "        try:\n",
    "            res_dict[t] = industry\n",
    "            i+=1\n",
    "            if i%10 == 0:\n",
    "                print(f'Working on {t}')\n",
    "        except err as e:\n",
    "            print(f'Failed for {t} with {e}')\n",
    "            continue\n",
    "    \n"
   ]
  },
  {
   "cell_type": "code",
   "execution_count": null,
   "id": "d8812700",
   "metadata": {},
   "outputs": [],
   "source": [
    "def from_list(x):\n",
    "    try:\n",
    "        x = x[0]\n",
    "    except:\n",
    "         x = None\n",
    "    return x    "
   ]
  },
  {
   "cell_type": "code",
   "execution_count": null,
   "id": "71c9b065",
   "metadata": {},
   "outputs": [],
   "source": [
    "df_industry = pd.DataFrame(data=res_dict.items(),columns=['ticker','industry'])\n",
    "df_industry['Industry'] = df_industry['industry'].apply(lambda x: from_list(x))\n",
    "df_industry.to_excel('all_public_company_industries.xlsx',index=False)"
   ]
  }
 ],
 "metadata": {
  "kernelspec": {
   "display_name": "Python 3 (ipykernel)",
   "language": "python",
   "name": "python3"
  },
  "language_info": {
   "codemirror_mode": {
    "name": "ipython",
    "version": 3
   },
   "file_extension": ".py",
   "mimetype": "text/x-python",
   "name": "python",
   "nbconvert_exporter": "python",
   "pygments_lexer": "ipython3",
   "version": "3.10.9"
  }
 },
 "nbformat": 4,
 "nbformat_minor": 5
}
